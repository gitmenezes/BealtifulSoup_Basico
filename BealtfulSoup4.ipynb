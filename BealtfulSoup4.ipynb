{
 "cells": [
  {
   "cell_type": "markdown",
   "id": "56e44fca",
   "metadata": {},
   "source": [
    "# Precisa extrair dados da internet, que tal uma sopa com Bealtful Soup!\n",
    "## Aprenda a ler conteúdos das tags html\n",
    "> ###  Se você não tem familiaridade [HTML (Hyper Text Markup Language)](https://www.w3schools.com/whatis/whatis_html.asp), não deixe de conhecer o DOM ([Document Object Model](https://www.w3schools.com/whatis/whatis_htmldom.asp#:~:text=The%20HTML%20DOM%20is%20an%20Object%20Model%20for,the%20DOM%2C%20is%20by%20using%20the%20element%20id.))"
   ]
  },
  {
   "cell_type": "code",
   "execution_count": 23,
   "id": "d49f1a57",
   "metadata": {},
   "outputs": [],
   "source": [
    "# Importar a Biblioteca Beautiful Soup com o apelido de bs\n",
    "from bs4 import BeautifulSoup as bs"
   ]
  },
  {
   "cell_type": "markdown",
   "id": "066fc5c9",
   "metadata": {},
   "source": [
    "#### Este é um modelo de um micro site\n",
    "##### as barras opostas \" \\ \" ao final de cada linha indicam apenas quebra de linha e não fazem parte da linguagem de marcação HTML"
   ]
  },
  {
   "cell_type": "code",
   "execution_count": 43,
   "id": "cd421d02",
   "metadata": {},
   "outputs": [],
   "source": [
    "# Micro site\n",
    "site = '<html>\\\n",
    "            <head><title>Este é o título da página</title></head>\\\n",
    "            <body>\\\n",
    "                <div>\\\n",
    "                    <h1>Este é um título com maior tamanho</h1>\\\n",
    "                </div>\\\n",
    "                <footer>2020-2021</footer>\\\n",
    "            </body>\\\n",
    "        </html>'"
   ]
  },
  {
   "cell_type": "code",
   "execution_count": 51,
   "id": "e2dc93ea",
   "metadata": {},
   "outputs": [],
   "source": [
    "# a variável sopa irá receber os dados do site a partir do bs(Bealtiful Soup)\n",
    "sopa = bs(site)"
   ]
  },
  {
   "cell_type": "code",
   "execution_count": 52,
   "id": "a2e58b42",
   "metadata": {},
   "outputs": [
    {
     "data": {
      "text/plain": [
       "'Este é o título da página'"
      ]
     },
     "execution_count": 52,
     "metadata": {},
     "output_type": "execute_result"
    }
   ],
   "source": [
    "# agora vamos extrair o conteúdo da tag <title>...</title>\n",
    "sopa.title.string\n",
    "# string indica o conteúdo de texto no interior da tag"
   ]
  },
  {
   "cell_type": "code",
   "execution_count": 53,
   "id": "013ab299",
   "metadata": {},
   "outputs": [
    {
     "data": {
      "text/plain": [
       "'Este é um título com maior tamanho'"
      ]
     },
     "execution_count": 53,
     "metadata": {},
     "output_type": "execute_result"
    }
   ],
   "source": [
    "# aqui extrairemos os dados da tag <h1>...</h1> que está no interior da tag <div>...</div>\n",
    "sopa.div.h1.string"
   ]
  },
  {
   "cell_type": "code",
   "execution_count": 54,
   "id": "63dabd01",
   "metadata": {},
   "outputs": [
    {
     "data": {
      "text/plain": [
       "'2020-2021'"
      ]
     },
     "execution_count": 54,
     "metadata": {},
     "output_type": "execute_result"
    }
   ],
   "source": [
    "# vamos extrair o conteúdo do rodapé na tag <footer>...</footer>\n",
    "sopa.body.footer.string"
   ]
  },
  {
   "cell_type": "code",
   "execution_count": 55,
   "id": "c36c3f9b",
   "metadata": {},
   "outputs": [
    {
     "name": "stdout",
     "output_type": "stream",
     "text": [
      "<html> <head><title>Este é o título da página</title></head> <body> <div> <h1>Este é um título com maior tamanho</h1> </div> <footer>2020-2021</footer> </body> </html>\n"
     ]
    }
   ],
   "source": [
    "# e para finalizar vamos imprimir todas as tags do site\n",
    "print(sopa)"
   ]
  },
  {
   "cell_type": "markdown",
   "id": "ee82f269",
   "metadata": {},
   "source": [
    "#### Este é apenas um micro conteúdo para ajudar iniciantes no uso da biblioteca.\n",
    "#### Para maiores informações visite o site da documentação.\n",
    ">##### [Beautiful Soup Documentation](https://beautiful-soup-4.readthedocs.io/en/latest/#beautiful-soup-documentation)\n"
   ]
  },
  {
   "cell_type": "code",
   "execution_count": null,
   "id": "6a94a7b1",
   "metadata": {},
   "outputs": [],
   "source": []
  }
 ],
 "metadata": {
  "kernelspec": {
   "display_name": "Python 3",
   "language": "python",
   "name": "python3"
  },
  "language_info": {
   "codemirror_mode": {
    "name": "ipython",
    "version": 3
   },
   "file_extension": ".py",
   "mimetype": "text/x-python",
   "name": "python",
   "nbconvert_exporter": "python",
   "pygments_lexer": "ipython3",
   "version": "3.8.8"
  }
 },
 "nbformat": 4,
 "nbformat_minor": 5
}
